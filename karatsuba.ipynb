{
 "cells": [
  {
   "cell_type": "code",
   "execution_count": 1,
   "metadata": {},
   "outputs": [],
   "source": [
    "from random import randint"
   ]
  },
  {
   "cell_type": "code",
   "execution_count": 4,
   "metadata": {},
   "outputs": [],
   "source": [
    "def mul(num1, num2, n):\n",
    "    \"\"\"\n",
    "    Assume:\n",
    "        1. num1 and num2 are two n-digit positive integers\n",
    "        2. n is a power of 2\n",
    "    \"\"\"    \n",
    "    if n == 1:\n",
    "        return num1 * num2\n",
    "    \n",
    "    half = n // 2\n",
    "    \n",
    "    a = num1 // (10 ** half)\n",
    "    b = num1 % (10 ** half)\n",
    "    c = num2 // (10 ** half)\n",
    "    d = num2 % (10 ** half)\n",
    "    \n",
    "    ac = mul(a, c, n=half)\n",
    "    bd = mul(b, d, n=half)\n",
    "    \n",
    "    p = a + b\n",
    "    q = c + d\n",
    "    ad_plus_bc = mul(p, q, n=half) - ac - bd\n",
    "    \n",
    "    result = (10 ** n) * ac + (10 ** half) * ad_plus_bc + bd\n",
    "    return result"
   ]
  },
  {
   "cell_type": "code",
   "execution_count": 9,
   "metadata": {
    "scrolled": false
   },
   "outputs": [
    {
     "name": "stdout",
     "output_type": "stream",
     "text": [
      "24 56\n",
      "1344 1344\n",
      "23 53\n",
      "1219 1219\n",
      "65698682 96893071\n",
      "6365747059632422 6365747059632422\n",
      "6155 9403\n",
      "57875465 57875465\n",
      "6598989035606106 6608026161880570\n",
      "43606292189248180714422734760420 43606292189248180714422734760420\n",
      "3990 1798\n",
      "7174020 7174020\n",
      "72923992575563894274434015128183 92949366996672511237163371483606\n",
      "6778238948768709875027195403703877289106660276859813704973067898 6778238948768709875027195403703877289106660276859813704973067898\n",
      "8355 5753\n",
      "48066315 48066315\n",
      "78896323 75585179\n",
      "5963392696396817 5963392696396817\n",
      "9299 2109\n",
      "19611591 19611591\n"
     ]
    }
   ],
   "source": [
    "for i in range(10):\n",
    "    num_digits = 2 ** randint(1, 5)\n",
    "    num1, num2 = [\n",
    "        randint(10 ** (num_digits - 1), 10 ** num_digits)\n",
    "        for _ in range(2)]\n",
    "    print(num1, num2)\n",
    "    result = mul(num1, num2, num_digits)\n",
    "    print(result, num1 * num2)\n",
    "    assert result == num1 * num2"
   ]
  },
  {
   "cell_type": "code",
   "execution_count": null,
   "metadata": {},
   "outputs": [],
   "source": []
  }
 ],
 "metadata": {
  "kernelspec": {
   "display_name": "Python 3",
   "language": "python",
   "name": "python3"
  },
  "language_info": {
   "codemirror_mode": {
    "name": "ipython",
    "version": 3
   },
   "file_extension": ".py",
   "mimetype": "text/x-python",
   "name": "python",
   "nbconvert_exporter": "python",
   "pygments_lexer": "ipython3",
   "version": "3.7.2"
  }
 },
 "nbformat": 4,
 "nbformat_minor": 2
}
