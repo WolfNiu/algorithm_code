{
 "cells": [
  {
   "cell_type": "code",
   "execution_count": 1,
   "metadata": {},
   "outputs": [],
   "source": [
    "import numpy as np"
   ]
  },
  {
   "cell_type": "code",
   "execution_count": 4,
   "metadata": {},
   "outputs": [],
   "source": [
    "def sort_and_count_inv(lst):\n",
    "    num_elems = len(lst)\n",
    "    \n",
    "    if num_elems <= 1:\n",
    "        return lst, 0\n",
    "    \n",
    "    half = num_elems // 2\n",
    "    \n",
    "    sorted_left, num_left_inv = sort_and_count_inv(lst[:half])\n",
    "    sorted_right, num_right_inv = sort_and_count_inv(lst[half:])\n",
    "    \n",
    "    i = 0\n",
    "    j = 0\n",
    "    num_split_inv = 0\n",
    "    merged = []\n",
    "    for k in range(num_elems):\n",
    "        if i >= half:\n",
    "            merged.extend(sorted_right[j:])\n",
    "            break\n",
    "        elif j >= num_elems - half:\n",
    "            merged.extend(sorted_left[i:])\n",
    "            break\n",
    "\n",
    "        if sorted_left[i] <= sorted_right[j]: # the <= is necessary since equality is not inversion\n",
    "            merged.append(sorted_left[i])\n",
    "            i += 1\n",
    "        else:\n",
    "            merged.append(sorted_right[j])\n",
    "            num_split_inv += (half - i)\n",
    "            j += 1\n",
    "    \n",
    "    num_inv = num_left_inv + num_right_inv + num_split_inv\n",
    "            \n",
    "    return merged, num_inv"
   ]
  },
  {
   "cell_type": "code",
   "execution_count": 18,
   "metadata": {},
   "outputs": [
    {
     "name": "stdout",
     "output_type": "stream",
     "text": [
      "[1, 5, 3, 3, 4, 9, 0, 5, 7, 8, 4, 1, 7, 1, 5, 7]\n",
      "[0, 1, 1, 1, 3, 3, 4, 4, 5, 5, 5, 7, 7, 7, 8, 9] 44\n",
      "\n",
      "[9, 7, 9, 0, 8, 9, 8, 8, 7, 7, 9, 5, 6, 0, 3, 5]\n",
      "[0, 0, 3, 5, 5, 6, 7, 7, 7, 8, 8, 8, 9, 9, 9, 9] 79\n",
      "\n",
      "[8, 8, 7, 1, 4, 9, 5, 4, 4, 0, 3, 5, 7, 6, 6, 4]\n",
      "[0, 1, 3, 4, 4, 4, 4, 5, 5, 6, 6, 7, 7, 8, 8, 9] 65\n",
      "\n",
      "[0, 7, 4, 5, 8, 4, 5, 5, 1, 0, 9, 8, 4, 2, 8, 0]\n",
      "[0, 0, 0, 1, 2, 4, 4, 4, 5, 5, 5, 7, 8, 8, 8, 9] 56\n",
      "\n",
      "[9, 0, 6, 6, 2, 6, 5, 9, 8, 3, 8, 9, 9, 1, 4, 0]\n",
      "[0, 0, 1, 2, 3, 4, 5, 6, 6, 6, 8, 8, 9, 9, 9, 9] 58\n",
      "\n",
      "[6, 3, 2, 9, 6, 1, 5, 5, 9, 2, 3, 8, 6, 0, 1, 3]\n",
      "[0, 1, 1, 2, 2, 3, 3, 3, 5, 5, 6, 6, 6, 8, 9, 9] 66\n",
      "\n",
      "[9, 6, 6, 0, 3, 8, 4, 9, 7, 4, 3, 7, 9, 0, 0, 0]\n",
      "[0, 0, 0, 0, 3, 3, 4, 4, 6, 6, 7, 7, 8, 9, 9, 9] 69\n",
      "\n",
      "[2, 3, 9, 4, 6, 8, 5, 5, 9, 0, 6, 0, 7, 0, 1, 6]\n",
      "[0, 0, 0, 1, 2, 3, 4, 5, 5, 6, 6, 6, 7, 8, 9, 9] 60\n",
      "\n",
      "[5, 2, 8, 6, 3, 1, 7, 2, 0, 3, 8, 9, 3, 8, 4, 2]\n",
      "[0, 1, 2, 2, 2, 3, 3, 3, 4, 5, 6, 7, 8, 8, 8, 9] 53\n",
      "\n",
      "[6, 5, 4, 0, 1, 2, 0, 6, 4, 6, 1, 8, 6, 4, 2, 1]\n",
      "[0, 0, 1, 1, 1, 2, 2, 4, 4, 4, 5, 6, 6, 6, 6, 8] 54\n",
      "\n",
      "[1, 5, 8, 2, 4, 3, 5, 6, 2, 2, 8, 8, 8, 1, 7, 2]\n",
      "[1, 1, 2, 2, 2, 2, 3, 4, 5, 5, 6, 7, 8, 8, 8, 8] 47\n",
      "\n",
      "[9, 1, 7, 4, 5, 0, 1, 5, 0, 6, 2, 1, 2, 4, 0, 2]\n",
      "[0, 0, 0, 1, 1, 1, 2, 2, 2, 4, 4, 5, 5, 6, 7, 9] 69\n",
      "\n",
      "[1, 8, 7, 3, 2, 7, 8, 8, 4, 2, 5, 9, 6, 4, 6, 5]\n",
      "[1, 2, 2, 3, 4, 4, 5, 5, 6, 6, 7, 7, 8, 8, 8, 9] 52\n",
      "\n",
      "[9, 0, 5, 9, 0, 9, 1, 0, 3, 9, 4, 4, 2, 5, 4, 2]\n",
      "[0, 0, 0, 1, 2, 2, 3, 4, 4, 4, 5, 5, 9, 9, 9, 9] 56\n",
      "\n",
      "[3, 1, 8, 4, 0, 8, 5, 0, 6, 5, 6, 5, 4, 8, 7, 2]\n",
      "[0, 0, 1, 2, 3, 4, 4, 5, 5, 5, 6, 6, 7, 8, 8, 8] 47\n",
      "\n",
      "[9, 8, 3, 7, 5, 0, 8, 6, 5, 5, 8, 8, 9, 2, 0, 5]\n",
      "[0, 0, 2, 3, 5, 5, 5, 5, 6, 7, 8, 8, 8, 8, 9, 9] 63\n",
      "\n"
     ]
    }
   ],
   "source": [
    "max_num = 10\n",
    "size = 16\n",
    "for i in range(16):\n",
    "    arr = np.random.randint(max_num, size=size).tolist()\n",
    "    sorted_arr, num_inv = sort_and_count_inv(arr)\n",
    "    print(arr)\n",
    "    print(sorted_arr, num_inv)\n",
    "    print(\"\")\n",
    "    assert sorted_arr == sorted(arr)"
   ]
  },
  {
   "cell_type": "code",
   "execution_count": null,
   "metadata": {},
   "outputs": [],
   "source": []
  },
  {
   "cell_type": "code",
   "execution_count": null,
   "metadata": {},
   "outputs": [],
   "source": []
  }
 ],
 "metadata": {
  "kernelspec": {
   "display_name": "Python 3",
   "language": "python",
   "name": "python3"
  },
  "language_info": {
   "codemirror_mode": {
    "name": "ipython",
    "version": 3
   },
   "file_extension": ".py",
   "mimetype": "text/x-python",
   "name": "python",
   "nbconvert_exporter": "python",
   "pygments_lexer": "ipython3",
   "version": "3.7.2"
  }
 },
 "nbformat": 4,
 "nbformat_minor": 2
}
